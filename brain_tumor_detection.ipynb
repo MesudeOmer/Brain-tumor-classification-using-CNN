{
  "cells": [
    {
      "cell_type": "code",
      "execution_count": null,
      "metadata": {
        "id": "dhvAkPI0Y6z6"
      },
      "outputs": [],
      "source": [
        "from google.colab import drive\n",
        "drive.mount('/gdrive')\n",
        "%cd /gdrive"
      ]
    },
    {
      "cell_type": "code",
      "execution_count": null,
      "metadata": {
        "id": "1PUKJLfbY-gG"
      },
      "outputs": [],
      "source": [
        "import cv2\n",
        "import os\n",
        "import numpy as np\n",
        "import pandas as pd\n",
        "from PIL import Image\n",
        "from sklearn.model_selection import train_test_split\n",
        "import tensorflow as tf\n",
        "from tensorflow import keras\n",
        "from keras.utils import normalize\n",
        "from keras.models import Sequential\n",
        "from tensorflow.keras.layers import Conv2D, MaxPooling2D,Flatten,Dense,Activation,Dropout\n",
        "from keras.utils import to_categorical\n",
        "from keras.models import load_model\n",
        "from sklearn.metrics import confusion_matrix, classification_report, ConfusionMatrixDisplay\n",
        "import seaborn as sbn\n",
        "import matplotlib.pyplot as plt\n",
        "from keras.preprocessing.image import ImageDataGenerator\n",
        "from keras.wrappers.scikit_learn import KerasClassifier\n"
      ]
    },
    {
      "cell_type": "code",
      "execution_count": null,
      "metadata": {
        "id": "RapUvHe0ZCVm"
      },
      "outputs": [],
      "source": [
        "data_directory = \"My Drive/Veri/\""
      ]
    },
    {
      "cell_type": "code",
      "execution_count": null,
      "metadata": {
        "id": "FJ3-wXA-Zk9V"
      },
      "outputs": [],
      "source": [
        "no_tumor = os.listdir(data_directory + \"no/\")\n",
        "yes_tumor = os.listdir(data_directory + \"yes/\")"
      ]
    },
    {
      "cell_type": "code",
      "execution_count": null,
      "metadata": {
        "id": "EI2PdE2SZwOs"
      },
      "outputs": [],
      "source": [
        "no_tumor"
      ]
    },
    {
      "cell_type": "code",
      "execution_count": null,
      "metadata": {
        "id": "ub1PHS67Z2tT"
      },
      "outputs": [],
      "source": [
        "path = \"no0.jpg\"\n",
        "dataset=[]\n",
        "label=[]\n",
        "Input_Size = 64"
      ]
    },
    {
      "cell_type": "code",
      "execution_count": null,
      "metadata": {
        "colab": {
          "base_uri": "https://localhost:8080/",
          "height": 35
        },
        "id": "ziAvyqSGajko",
        "outputId": "6a8fbff9-d62e-4f09-d481-c72d480f2fbe"
      },
      "outputs": [
        {
          "output_type": "execute_result",
          "data": {
            "text/plain": [
              "'jpg'"
            ],
            "application/vnd.google.colaboratory.intrinsic+json": {
              "type": "string"
            }
          },
          "metadata": {},
          "execution_count": 7
        }
      ],
      "source": [
        "path.split(\".\")[1]"
      ]
    },
    {
      "cell_type": "code",
      "execution_count": null,
      "metadata": {
        "id": "0ivO_bOEauRM"
      },
      "outputs": [],
      "source": [
        "for i, image_name in enumerate(no_tumor):\n",
        "  if(image_name.split(\".\")[1] == \"jpg\"):\n",
        "    img = cv2.imread(data_directory+ \"no/\" +image_name)\n",
        "    img = Image.fromarray(img,\"RGB\")\n",
        "    img = img.resize((Input_Size,Input_Size))\n",
        "    img = np.array(img)\n",
        "    dataset.append(img)\n",
        "    label.append(0)"
      ]
    },
    {
      "cell_type": "code",
      "execution_count": null,
      "metadata": {
        "id": "1YB0XmaCccST"
      },
      "outputs": [],
      "source": [
        "for i, image_name in enumerate(yes_tumor):\n",
        "  if(image_name.split(\".\")[1] == \"jpg\"):\n",
        "    img = cv2.imread(data_directory + \"yes/\" + image_name)\n",
        "    img = Image.fromarray(img,\"RGB\")\n",
        "    img = img.resize((Input_Size,Input_Size))\n",
        "    dataset.append(np.array(img))\n",
        "    label.append(1)"
      ]
    },
    {
      "cell_type": "code",
      "execution_count": null,
      "metadata": {
        "id": "vwSbp5Yycb-L"
      },
      "outputs": [],
      "source": [
        "dataset = np.array(dataset)\n",
        "label = np.array(label)"
      ]
    },
    {
      "cell_type": "code",
      "execution_count": null,
      "metadata": {
        "colab": {
          "base_uri": "https://localhost:8080/"
        },
        "id": "-j8GEBI9hOxX",
        "outputId": "a5acb93c-1301-4ebb-c4a5-c15dfba6ef4b"
      },
      "outputs": [
        {
          "output_type": "execute_result",
          "data": {
            "text/plain": [
              "(3000,)"
            ]
          },
          "metadata": {},
          "execution_count": 11
        }
      ],
      "source": [
        "label.shape"
      ]
    },
    {
      "cell_type": "code",
      "execution_count": null,
      "metadata": {
        "colab": {
          "base_uri": "https://localhost:8080/"
        },
        "id": "830L8jirbXVj",
        "outputId": "0f9633c7-a913-45c6-f0d1-3eb2bbffc8ec"
      },
      "outputs": [
        {
          "output_type": "execute_result",
          "data": {
            "text/plain": [
              "(3000, 64, 64, 3)"
            ]
          },
          "metadata": {},
          "execution_count": 12
        }
      ],
      "source": [
        "dataset.shape"
      ]
    },
    {
      "cell_type": "code",
      "execution_count": null,
      "metadata": {
        "id": "QJZRchHvhXAu"
      },
      "outputs": [],
      "source": [
        "x_train,x_test,y_train,y_test = train_test_split(dataset,label,test_size=0.3,train_size=0.7,random_state=0)"
      ]
    },
    {
      "cell_type": "code",
      "execution_count": null,
      "metadata": {
        "colab": {
          "base_uri": "https://localhost:8080/"
        },
        "id": "BLyFegpGhdJO",
        "outputId": "8f909b85-f922-40a5-e34a-903d7742790e"
      },
      "outputs": [
        {
          "output_type": "execute_result",
          "data": {
            "text/plain": [
              "(2100, 64, 64, 3)"
            ]
          },
          "metadata": {},
          "execution_count": 14
        }
      ],
      "source": [
        "x_train.shape"
      ]
    },
    {
      "cell_type": "code",
      "execution_count": null,
      "metadata": {
        "id": "RH0MXkk8kLI0"
      },
      "outputs": [],
      "source": [
        "x_train = normalize(x_train,axis=1)\n",
        "x_test= normalize(x_test,axis=1)"
      ]
    },
    {
      "cell_type": "markdown",
      "metadata": {
        "id": "C0IikutBmSOq"
      },
      "source": [
        "Model Building"
      ]
    },
    {
      "cell_type": "code",
      "execution_count": null,
      "metadata": {
        "id": "Tdx9JHiVkM6k"
      },
      "outputs": [],
      "source": [
        "model = Sequential()\n",
        "\n",
        "model.add(Conv2D( 32 , (3,3) , input_shape=(Input_Size,Input_Size,3)))\n",
        "model.add(Activation(\"relu\"))\n",
        "model.add(MaxPooling2D(pool_size=(2,2)))\n",
        "model.add(Dropout(0.1))\n",
        "\n",
        "model.add(Conv2D( 64 , (3,3) , kernel_initializer= \"he_uniform\"))\n",
        "model.add(Activation(\"relu\"))\n",
        "model.add(MaxPooling2D(pool_size=(2,2)))\n",
        "model.add(Dropout(0.1))\n",
        "\n",
        "model.add(Conv2D( 128 , (3,3) , kernel_initializer= \"he_uniform\"))\n",
        "model.add(Activation(\"relu\"))\n",
        "model.add(Dropout(0.1))\n",
        "\n",
        "\n",
        "model.add(Flatten())\n",
        "model.add(Dense(64))\n",
        "model.add(Activation(\"relu\"))\n",
        "model.add(Dropout(0.2))\n",
        "model.add(Dense(1))\n",
        "model.add(Activation(\"sigmoid\"))"
      ]
    },
    {
      "cell_type": "code",
      "execution_count": null,
      "metadata": {
        "id": "mk2aosNCoSXx"
      },
      "outputs": [],
      "source": [
        "model.compile(loss=\"binary_crossentropy\", optimizer= \"adam\" , metrics = [\"accuracy\"])"
      ]
    },
    {
      "cell_type": "code",
      "execution_count": null,
      "metadata": {
        "colab": {
          "base_uri": "https://localhost:8080/"
        },
        "id": "1v1N6aWnovSY",
        "outputId": "0a926faa-5def-41c5-80c6-b30045635b1d"
      },
      "outputs": [
        {
          "output_type": "stream",
          "name": "stdout",
          "text": [
            "Epoch 1/10\n",
            "66/66 [==============================] - 10s 17ms/step - loss: 0.5435 - accuracy: 0.7324 - val_loss: 0.4696 - val_accuracy: 0.8133\n",
            "Epoch 2/10\n",
            "66/66 [==============================] - 1s 10ms/step - loss: 0.3655 - accuracy: 0.8424 - val_loss: 0.2893 - val_accuracy: 0.9056\n",
            "Epoch 3/10\n",
            "66/66 [==============================] - 1s 10ms/step - loss: 0.2718 - accuracy: 0.8814 - val_loss: 0.2152 - val_accuracy: 0.9178\n",
            "Epoch 4/10\n",
            "66/66 [==============================] - 1s 10ms/step - loss: 0.1908 - accuracy: 0.9343 - val_loss: 0.1670 - val_accuracy: 0.9389\n",
            "Epoch 5/10\n",
            "66/66 [==============================] - 1s 10ms/step - loss: 0.1256 - accuracy: 0.9562 - val_loss: 0.1286 - val_accuracy: 0.9433\n",
            "Epoch 6/10\n",
            "66/66 [==============================] - 1s 10ms/step - loss: 0.0920 - accuracy: 0.9719 - val_loss: 0.1277 - val_accuracy: 0.9522\n",
            "Epoch 7/10\n",
            "66/66 [==============================] - 1s 10ms/step - loss: 0.0606 - accuracy: 0.9819 - val_loss: 0.1395 - val_accuracy: 0.9544\n",
            "Epoch 8/10\n",
            "66/66 [==============================] - 1s 11ms/step - loss: 0.0572 - accuracy: 0.9833 - val_loss: 0.1399 - val_accuracy: 0.9656\n",
            "Epoch 9/10\n",
            "66/66 [==============================] - 1s 10ms/step - loss: 0.0371 - accuracy: 0.9876 - val_loss: 0.1428 - val_accuracy: 0.9722\n",
            "Epoch 10/10\n",
            "66/66 [==============================] - 1s 10ms/step - loss: 0.0237 - accuracy: 0.9924 - val_loss: 0.1346 - val_accuracy: 0.9722\n"
          ]
        },
        {
          "output_type": "execute_result",
          "data": {
            "text/plain": [
              "<keras.callbacks.History at 0x7ff7da5b3430>"
            ]
          },
          "metadata": {},
          "execution_count": 18
        }
      ],
      "source": [
        "model.fit(x_train,y_train,\n",
        "          batch_size=32,\n",
        "          verbose=1,\n",
        "          epochs = 10,\n",
        "          validation_data=(x_test,y_test),\n",
        "          shuffle=False)"
      ]
    },
    {
      "cell_type": "code",
      "execution_count": null,
      "metadata": {
        "colab": {
          "base_uri": "https://localhost:8080/"
        },
        "id": "mw3sFgGDwiVm",
        "outputId": "93415d55-8dad-4bdb-af43-123e8e6bd10c"
      },
      "outputs": [
        {
          "output_type": "stream",
          "name": "stdout",
          "text": [
            "Model: \"sequential\"\n",
            "_________________________________________________________________\n",
            " Layer (type)                Output Shape              Param #   \n",
            "=================================================================\n",
            " conv2d (Conv2D)             (None, 62, 62, 32)        896       \n",
            "                                                                 \n",
            " activation (Activation)     (None, 62, 62, 32)        0         \n",
            "                                                                 \n",
            " max_pooling2d (MaxPooling2D  (None, 31, 31, 32)       0         \n",
            " )                                                               \n",
            "                                                                 \n",
            " dropout (Dropout)           (None, 31, 31, 32)        0         \n",
            "                                                                 \n",
            " conv2d_1 (Conv2D)           (None, 29, 29, 64)        18496     \n",
            "                                                                 \n",
            " activation_1 (Activation)   (None, 29, 29, 64)        0         \n",
            "                                                                 \n",
            " max_pooling2d_1 (MaxPooling  (None, 14, 14, 64)       0         \n",
            " 2D)                                                             \n",
            "                                                                 \n",
            " dropout_1 (Dropout)         (None, 14, 14, 64)        0         \n",
            "                                                                 \n",
            " conv2d_2 (Conv2D)           (None, 12, 12, 128)       73856     \n",
            "                                                                 \n",
            " activation_2 (Activation)   (None, 12, 12, 128)       0         \n",
            "                                                                 \n",
            " dropout_2 (Dropout)         (None, 12, 12, 128)       0         \n",
            "                                                                 \n",
            " flatten (Flatten)           (None, 18432)             0         \n",
            "                                                                 \n",
            " dense (Dense)               (None, 64)                1179712   \n",
            "                                                                 \n",
            " activation_3 (Activation)   (None, 64)                0         \n",
            "                                                                 \n",
            " dropout_3 (Dropout)         (None, 64)                0         \n",
            "                                                                 \n",
            " dense_1 (Dense)             (None, 1)                 65        \n",
            "                                                                 \n",
            " activation_4 (Activation)   (None, 1)                 0         \n",
            "                                                                 \n",
            "=================================================================\n",
            "Total params: 1,273,025\n",
            "Trainable params: 1,273,025\n",
            "Non-trainable params: 0\n",
            "_________________________________________________________________\n"
          ]
        }
      ],
      "source": [
        "model.summary()"
      ]
    },
    {
      "cell_type": "code",
      "execution_count": null,
      "metadata": {
        "colab": {
          "base_uri": "https://localhost:8080/"
        },
        "id": "tQIHnUMSy9h6",
        "outputId": "a436ea4b-34bc-4735-886d-5883c01bd804"
      },
      "outputs": [
        {
          "name": "stdout",
          "output_type": "stream",
          "text": [
            "mkdir: cannot create directory ‘saved_model’: Operation not supported\n"
          ]
        },
        {
          "name": "stderr",
          "output_type": "stream",
          "text": [
            "WARNING:absl:Found untraced functions such as _jit_compiled_convolution_op, _jit_compiled_convolution_op while saving (showing 2 of 2). These functions will not be directly callable after loading.\n"
          ]
        }
      ],
      "source": [
        "# Save the entire model as a SavedModel.\n",
        "!mkdir -p saved_model\n",
        "model.save('/content/drive/MyDrive/Tumor_CNN')"
      ]
    },
    {
      "cell_type": "code",
      "execution_count": null,
      "metadata": {
        "colab": {
          "base_uri": "https://localhost:8080/"
        },
        "id": "tTD1I9WApM1Z",
        "outputId": "73fa7584-3772-44db-dadd-80613b737059"
      },
      "outputs": [
        {
          "output_type": "stream",
          "name": "stderr",
          "text": [
            "<ipython-input-21-ddd79674e6fa>:1: UserWarning: `Model.predict_generator` is deprecated and will be removed in a future version. Please use `Model.predict`, which supports generators.\n",
            "  pred = model.predict_generator(x_test,verbose=0)\n"
          ]
        }
      ],
      "source": [
        "pred = model.predict_generator(x_test,verbose=0)\n",
        "\n",
        "pred[ pred <= .5] = 0\n",
        "pred[ pred > .5] = 1"
      ]
    },
    {
      "cell_type": "code",
      "execution_count": null,
      "metadata": {
        "colab": {
          "base_uri": "https://localhost:8080/"
        },
        "id": "nq_EoRrUnmh2",
        "outputId": "f1f5a34f-c7a6-412b-b79c-315756e06744"
      },
      "outputs": [
        {
          "output_type": "execute_result",
          "data": {
            "text/plain": [
              "array([[479,  14],\n",
              "       [ 11, 396]])"
            ]
          },
          "metadata": {},
          "execution_count": 30
        }
      ],
      "source": [
        "confusion_matrix(y_test , pred)"
      ]
    },
    {
      "cell_type": "code",
      "execution_count": null,
      "metadata": {
        "colab": {
          "base_uri": "https://localhost:8080/"
        },
        "id": "vYglHEU_rsR_",
        "outputId": "27e3e9f3-457c-47dd-9799-30eae2ece5b9"
      },
      "outputs": [
        {
          "output_type": "execute_result",
          "data": {
            "text/plain": [
              "[0.014420244842767715, 0.9961904883384705]"
            ]
          },
          "metadata": {},
          "execution_count": 22
        }
      ],
      "source": [
        "model.evaluate(x_train,y_train,verbose=0)"
      ]
    },
    {
      "cell_type": "code",
      "execution_count": null,
      "metadata": {
        "colab": {
          "base_uri": "https://localhost:8080/"
        },
        "id": "0uAAlUt-sIru",
        "outputId": "5a7c3b15-d6be-43c7-df93-64faaf61ad47"
      },
      "outputs": [
        {
          "output_type": "stream",
          "name": "stdout",
          "text": [
            "29/29 - 0s - loss: 0.1346 - accuracy: 0.9722 - 195ms/epoch - 7ms/step\n",
            "Restored model, accuracy: 97.22%\n"
          ]
        }
      ],
      "source": [
        "# Evaluate the model\n",
        "loss, acc = model.evaluate(x_test,y_test, verbose=2)\n",
        "print(\"Restored model, accuracy: {:5.2f}%\".format(100 * acc))"
      ]
    },
    {
      "cell_type": "code",
      "source": [],
      "metadata": {
        "id": "htDrrb56-Fep"
      },
      "execution_count": null,
      "outputs": []
    }
  ],
  "metadata": {
    "accelerator": "GPU",
    "colab": {
      "provenance": []
    },
    "gpuClass": "standard",
    "kernelspec": {
      "display_name": "Python 3",
      "name": "python3"
    },
    "language_info": {
      "name": "python"
    }
  },
  "nbformat": 4,
  "nbformat_minor": 0
}