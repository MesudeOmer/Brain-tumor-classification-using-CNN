{
  "cells": [
    {
      "cell_type": "code",
      "execution_count": 1,
      "metadata": {
        "colab": {
          "base_uri": "https://localhost:8080/"
        },
        "id": "OKn5flm735M4",
        "outputId": "3114a0e1-7c07-426a-c572-47da9b2fbd99"
      },
      "outputs": [
        {
          "output_type": "stream",
          "name": "stdout",
          "text": [
            "Mounted at /gdrive\n",
            "/gdrive\n"
          ]
        }
      ],
      "source": [
        "from google.colab import drive\n",
        "drive.mount('/gdrive')\n",
        "%cd /gdrive"
      ]
    },
    {
      "cell_type": "code",
      "execution_count": null,
      "metadata": {
        "id": "ULwvY_m2352z"
      },
      "outputs": [],
      "source": [
        "import cv2\n",
        "import os\n",
        "import numpy as np\n",
        "import pandas as pd\n",
        "from PIL import Image\n",
        "from sklearn.model_selection import train_test_split\n",
        "import tensorflow as tf\n",
        "from tensorflow import keras\n",
        "from keras.utils import normalize\n",
        "from keras.models import Sequential\n",
        "from tensorflow.keras.layers import Conv2D, MaxPooling2D,Flatten,Dense,Activation,Dropout\n",
        "from keras.utils import to_categorical\n",
        "from keras.models import load_model\n",
        "from sklearn.metrics import confusion_matrix, classification_report, ConfusionMatrixDisplay\n",
        "import seaborn as sbn\n",
        "import matplotlib.pyplot as plt\n",
        "from keras.preprocessing.image import ImageDataGenerator\n",
        "from keras.wrappers.scikit_learn import KerasClassifier\n",
        "from sklearn import metrics"
      ]
    },
    {
      "cell_type": "code",
      "execution_count": null,
      "metadata": {
        "id": "YVa1w5gH4Jy4"
      },
      "outputs": [],
      "source": [
        "data_directory = \"My Drive/Veri/\""
      ]
    },
    {
      "cell_type": "code",
      "execution_count": null,
      "metadata": {
        "id": "FxgyHH_04OyL"
      },
      "outputs": [],
      "source": [
        "no_tumor = os.listdir(data_directory + \"no/\")\n",
        "yes_tumor = os.listdir(data_directory + \"yes/\")"
      ]
    },
    {
      "cell_type": "code",
      "execution_count": null,
      "metadata": {
        "id": "SjNLW6yp4R-J"
      },
      "outputs": [],
      "source": [
        "path = \"no0.jpg\"\n",
        "dataset=[]\n",
        "label=[]\n",
        "Input_Size = 64"
      ]
    },
    {
      "cell_type": "code",
      "execution_count": null,
      "metadata": {
        "id": "t8b4_7_K4im9"
      },
      "outputs": [],
      "source": [
        "for i, image_name in enumerate(no_tumor):\n",
        "  if(image_name.split(\".\")[1] == \"jpg\"):\n",
        "    img = cv2.imread(data_directory+ \"no/\" +image_name)\n",
        "    img = Image.fromarray(img,\"RGB\")\n",
        "    img = img.resize((Input_Size,Input_Size))\n",
        "    img = np.array(img)\n",
        "    dataset.append(img)\n",
        "    label.append(0)"
      ]
    },
    {
      "cell_type": "code",
      "execution_count": null,
      "metadata": {
        "id": "pF9GGpqi4ieV"
      },
      "outputs": [],
      "source": [
        "for i, image_name in enumerate(yes_tumor):\n",
        "  if(image_name.split(\".\")[1] == \"jpg\"):\n",
        "    img = cv2.imread(data_directory + \"yes/\" + image_name)\n",
        "    img = Image.fromarray(img,\"RGB\")\n",
        "    img = img.resize((Input_Size,Input_Size))\n",
        "    dataset.append(np.array(img))\n",
        "    label.append(1)"
      ]
    },
    {
      "cell_type": "code",
      "execution_count": null,
      "metadata": {
        "id": "fXXYUCPx4iVs"
      },
      "outputs": [],
      "source": [
        "dataset = np.array(dataset)\n",
        "label = np.array(label)"
      ]
    },
    {
      "cell_type": "code",
      "execution_count": null,
      "metadata": {
        "id": "jDYWWOUf4iHX"
      },
      "outputs": [],
      "source": [
        "x_train,x_test,y_train,y_test = train_test_split(dataset,label,test_size=0.3,train_size=0.7,random_state=0)"
      ]
    },
    {
      "cell_type": "code",
      "execution_count": null,
      "metadata": {
        "colab": {
          "base_uri": "https://localhost:8080/"
        },
        "id": "lRlTOOKaqZ_g",
        "outputId": "c7c19d80-34f1-4fdc-93c3-9a3833ff0a93"
      },
      "outputs": [
        {
          "output_type": "execute_result",
          "data": {
            "text/plain": [
              "(2100, 64, 64, 3)"
            ]
          },
          "metadata": {},
          "execution_count": 10
        }
      ],
      "source": [
        "x_train.shape"
      ]
    },
    {
      "cell_type": "code",
      "execution_count": null,
      "metadata": {
        "id": "osDt09TKpACz"
      },
      "outputs": [],
      "source": [
        "X_train=x_train.reshape(x_train.shape[0],-1).T\n",
        "X_test=x_test.reshape(x_test.shape[0],-1).T\n",
        "\n",
        "X_train = X_train / 255.0\n",
        "X_test = X_test / 255.0\n",
        "\n",
        "X_train = np.array(X_train)\n",
        "Y_train = np.array(y_train)\n",
        "X_test = np.array(X_test)\n",
        "Y_test = np.array(y_test)"
      ]
    },
    {
      "cell_type": "code",
      "execution_count": null,
      "metadata": {
        "id": "JF4AGrXo4gQX"
      },
      "outputs": [],
      "source": [
        "def sigmoid(z):\n",
        "    return 1.0 / (1.0 + np.exp(-z))\n",
        "\n",
        "\n",
        "def propagate(w, b, X, Y):\n",
        "    m = X.shape[1]\n",
        "    A = sigmoid(np.dot(w.T, X) + b)\n",
        "    cost = - np.sum(Y * np.log(A) + (1 - Y) * np.log(1 - A)) / m\n",
        "    diffAY = A - Y\n",
        "    dw = np.dot(X, diffAY.T) / m\n",
        "    db = np.sum(diffAY) / m\n",
        "    return dw, db, cost\n",
        "\n",
        "def initialize_with_zeros(dim):\n",
        "    return  np.zeros([dim, 1]), 0.0"
      ]
    },
    {
      "cell_type": "code",
      "execution_count": null,
      "metadata": {
        "id": "KEbc2iyAs2BF"
      },
      "outputs": [],
      "source": [
        "def optimize(w, b, X, Y, num_iterations, learning_rate, print_cost = False):\n",
        "    costs = [None] * num_iterations\n",
        "    for i in range(num_iterations):\n",
        "        dw, db, cost = propagate(w, b, X, Y)\n",
        "        w = w - learning_rate * dw\n",
        "        b = b - learning_rate * db\n",
        "        costs[i] = cost\n",
        "        if print_cost and i % 100 == 0:\n",
        "            print (\"Cost after iteration %i: %f\" %(i, cost))\n",
        "    return w, b, costs"
      ]
    },
    {
      "cell_type": "code",
      "execution_count": null,
      "metadata": {
        "id": "7Tw4-MNvuQbD"
      },
      "outputs": [],
      "source": [
        "def predict(w, b, X):\n",
        "    m = X.shape[1]\n",
        "    Y_prediction = np.zeros((1, m))\n",
        "    w = w.reshape(X.shape[0], 1)\n",
        "    A = sigmoid(np.dot(w.T, X) + b)\n",
        "\n",
        "    for i in range(A.shape[1]):\n",
        "        Y_prediction[:, i] = (A[:, i] > 0.5) * 1\n",
        "    return Y_prediction"
      ]
    },
    {
      "cell_type": "code",
      "execution_count": null,
      "metadata": {
        "id": "tm-r2n2-szSR"
      },
      "outputs": [],
      "source": [
        "def model(X_train, Y_train, X_test, Y_test, num_iterations = 1500, learning_rate = 0.5, print_cost = False):\n",
        "    w, b = initialize_with_zeros(X_train.shape[0])\n",
        "    w, b, costs = optimize(w, b, X_train, y_train, num_iterations, learning_rate, print_cost)\n",
        "    Y_prediction_test = predict(w, b, X_test)\n",
        "    Y_prediction_train = predict(w, b, X_train)\n",
        "    print(\"Eğitim Kümesi Doğruluk Oranı: {}%\".format(100 - np.mean(np.abs(Y_prediction_train - y_train)) * 100))\n",
        "    print(\"Test Kümesi Doğruluk Oranı: {}%\".format(100 - np.mean(np.abs(Y_prediction_test - y_test)) * 100))\n",
        "    return Y_prediction_test, costs"
      ]
    },
    {
      "cell_type": "code",
      "execution_count": null,
      "metadata": {
        "colab": {
          "base_uri": "https://localhost:8080/"
        },
        "id": "hiNA9bwjtMCj",
        "outputId": "f421324c-1222-4a3a-c4dc-dfcd0ceb34ba"
      },
      "outputs": [
        {
          "output_type": "stream",
          "name": "stdout",
          "text": [
            "Cost after iteration 0: 0.693147\n",
            "Cost after iteration 100: 0.538338\n",
            "Cost after iteration 200: 0.442744\n",
            "Cost after iteration 300: 0.393579\n",
            "Cost after iteration 400: 0.361304\n",
            "Cost after iteration 500: 0.342236\n",
            "Cost after iteration 600: 0.326572\n",
            "Cost after iteration 700: 0.312718\n",
            "Cost after iteration 800: 0.300326\n",
            "Cost after iteration 900: 0.289146\n",
            "Cost after iteration 1000: 0.278988\n",
            "Cost after iteration 1100: 0.269701\n",
            "Cost after iteration 1200: 0.261166\n",
            "Cost after iteration 1300: 0.253287\n",
            "Cost after iteration 1400: 0.245983\n",
            "Cost after iteration 1500: 0.239188\n",
            "Cost after iteration 1600: 0.232846\n",
            "Cost after iteration 1700: 0.226907\n",
            "Cost after iteration 1800: 0.221332\n",
            "Cost after iteration 1900: 0.216084\n",
            "Cost after iteration 2000: 0.211134\n",
            "Cost after iteration 2100: 0.206453\n",
            "Cost after iteration 2200: 0.202019\n",
            "Cost after iteration 2300: 0.197811\n",
            "Cost after iteration 2400: 0.193810\n",
            "Cost after iteration 2500: 0.190000\n",
            "Cost after iteration 2600: 0.186366\n",
            "Cost after iteration 2700: 0.182895\n",
            "Cost after iteration 2800: 0.179575\n",
            "Cost after iteration 2900: 0.176396\n",
            "Eğitim Kümesi Doğruluk Oranı: 97.04761904761905%\n",
            "Test Kümesi Doğruluk Oranı: 93.11111111111111%\n"
          ]
        }
      ],
      "source": [
        "Y_prediction_test, costs = model(X_train, Y_train, X_test, Y_test, num_iterations = 3000, learning_rate = 0.01, print_cost = True)"
      ]
    },
    {
      "cell_type": "code",
      "execution_count": null,
      "metadata": {
        "colab": {
          "base_uri": "https://localhost:8080/"
        },
        "id": "z_mL5Ce9pjRX",
        "outputId": "e58523c7-5875-491e-ee93-263c41115276"
      },
      "outputs": [
        {
          "output_type": "execute_result",
          "data": {
            "text/plain": [
              "array([[460,  33],\n",
              "       [ 29, 378]])"
            ]
          },
          "metadata": {},
          "execution_count": 23
        }
      ],
      "source": [
        "from sklearn.metrics import confusion_matrix\n",
        "confusion_matrix(Y_test, Y_prediction_test.T)"
      ]
    },
    {
      "cell_type": "code",
      "execution_count": null,
      "metadata": {
        "colab": {
          "base_uri": "https://localhost:8080/",
          "height": 336
        },
        "id": "y6Q6e0VxyWw4",
        "outputId": "8baef91a-9a73-4279-9ea5-63f0d35136bd"
      },
      "outputs": [
        {
          "output_type": "display_data",
          "data": {
            "text/plain": [
              "<Figure size 360x360 with 1 Axes>"
            ],
            "image/png": "[encoded data removed]"
          },
          "metadata": {
            "needs_background": "light"
          }
        }
      ],
      "source": [
        "plt.figure(figsize=(5,5))\n",
        "plt.scatter(x = range(len(costs)), y =costs , color='gray')\n",
        "plt.title('Kayıp Fonksiyonunun Saçılım Grafiği', fontsize=12)\n",
        "plt.ylabel('Kayıp Miktarı', fontsize=12)\n",
        "plt.show()"
      ]
    },
    {
      "cell_type": "code",
      "source": [
        "a = Y_prediction_test.transpose()[:,0]\n",
        "a.shape"
      ],
      "metadata": {
        "colab": {
          "base_uri": "https://localhost:8080/"
        },
        "id": "b0zZXb47yh8d",
        "outputId": "75b242c7-6114-46c9-9630-be1ad1b098d2"
      },
      "execution_count": null,
      "outputs": [
        {
          "output_type": "execute_result",
          "data": {
            "text/plain": [
              "(900,)"
            ]
          },
          "metadata": {},
          "execution_count": 25
        }
      ]
    },
    {
      "cell_type": "code",
      "execution_count": null,
      "metadata": {
        "id": "y1_MFfrAn_BA",
        "colab": {
          "base_uri": "https://localhost:8080/",
          "height": 279
        },
        "outputId": "a3a899ce-7cbe-457a-ddbc-0fa8e0ce07aa"
      },
      "outputs": [
        {
          "output_type": "display_data",
          "data": {
            "text/plain": [
              "<Figure size 432x288 with 1 Axes>"
            ],
            "image/png": "[encoded data removed]"
          },
          "metadata": {
            "needs_background": "light"
          }
        }
      ],
      "source": [
        "fpr, tpr, _ = metrics.roc_curve(y_test,  a)\n",
        "auc = metrics.roc_auc_score(y_test, a)\n",
        "\n",
        "plt.plot(fpr,tpr,label=\"Doğruluk Oranı=\"+str(auc))\n",
        "plt.ylabel('Doğru Pozitif Oranı')\n",
        "plt.xlabel('Yanlış Negatif Oranı')\n",
        "plt.legend(loc=4)\n",
        "plt.show()"
      ]
    },
    {
      "cell_type": "code",
      "source": [],
      "metadata": {
        "id": "Ip9H7HCkxkFm"
      },
      "execution_count": null,
      "outputs": []
    }
  ],
  "metadata": {
    "colab": {
      "provenance": []
    },
    "kernelspec": {
      "display_name": "Python 3",
      "name": "python3"
    },
    "language_info": {
      "name": "python"
    }
  },
  "nbformat": 4,
  "nbformat_minor": 0
}